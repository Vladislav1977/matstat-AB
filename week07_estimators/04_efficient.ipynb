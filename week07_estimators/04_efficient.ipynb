{
 "cells": [
  {
   "cell_type": "markdown",
   "metadata": {},
   "source": [
    "<center>\n",
    "<img src=\"logo.png\" height=\"900\"> \n",
    "</center>\n",
    "\n",
    "\n",
    "#  Эффективность и охота на мамонтов\n",
    "\n",
    "Когда статистик оценивает какой-нибудь параметр, он хочет: \n",
    "\n",
    "* __несмещённость__ (при фиксированном размере выборки мы в среднем не ошибаемся) \n",
    "* __состоятельность__ (при бесконечном расширении выборки мы приходим к истиному значению)\n",
    "* __эффективность__ (у нашей оценки самая маленькая дисперсия для её класса (например, для всех несмещенных оценок))\n",
    "* иногда ещё статистик ссылается на какую-то мифическую __асимптотическую нормальность__ оценки.\n",
    "\n",
    "В этой тетрадке поговорим про эффективность. "
   ]
  },
  {
   "cell_type": "code",
   "execution_count": 1,
   "metadata": {},
   "outputs": [],
   "source": [
    "import numpy as np\n",
    "import pandas as pd\n",
    "\n",
    "from scipy import stats\n",
    "import matplotlib.pyplot as plt\n",
    "import seaborn as sns\n",
    "\n",
    "plt.style.use('ggplot')  # стиль для графиков\n",
    "%matplotlib inline"
   ]
  },
  {
   "cell_type": "markdown",
   "metadata": {},
   "source": [
    "# Эффективность \n",
    "\n",
    "Предположим, что у нас есть две оценки. Они обе классные, несмещённые и состоятельные. Возникает вопрос: а какую взять то? Для того, чтобы выбрать, вводят свойство эффективности. \n",
    "\n",
    "__Определение:__ Оценка $\\hat \\theta$ параметра $\\theta$ называется __эффективной в некотором классе оценок,__ если её дисперсия, $Var(\\hat \\theta)$ в этом классе оценок, при заданном объёме выборке минимальна. \n",
    "\n",
    "Зачем это нужно? Для того, чтобы доверительные интервалы для оценок были как можно уже, то есть для того, чтобы оценка была как можно точнее."
   ]
  },
  {
   "cell_type": "markdown",
   "metadata": {},
   "source": [
    "## Две оценки\n",
    "\n",
    "У нас есть выборка $x_1, \\ldots, x_n \\sim iid \\hspace{2mm} U[0; \\theta]$. Мы оценили параметр $\\theta$ двумя способами. Методом моментов и методом максимального правдоподобия: \n",
    "\n",
    "\n",
    "$$\\hat \\theta_{MM} = 2 \\bar x, \\qquad \\qquad \\hat \\theta_{ML} = \\frac{n+2}{n} \\cdot x_{max}$$\n",
    "\n",
    "Обе оценки оказались несмещёнными и состоятельными. Какую из них выбрать? Ответ прост: надо понять какая из них эффективнее.  \n",
    "\n",
    "Сгенерируйте выборку оценок каждого вида. Постройте по ним гистограммы и найдите этот простой ответ."
   ]
  },
  {
   "cell_type": "code",
   "execution_count": 2,
   "metadata": {},
   "outputs": [],
   "source": [
    "uniform_rv = stats.uniform(0, 5)"
   ]
  },
  {
   "cell_type": "code",
   "execution_count": 3,
   "metadata": {},
   "outputs": [
    {
     "data": {
      "text/plain": [
       "(100, 1000)"
      ]
     },
     "execution_count": 3,
     "metadata": {},
     "output_type": "execute_result"
    }
   ],
   "source": [
    "n_obs = 100\n",
    "\n",
    "# 1000 выборок размера n_obs\n",
    "x = uniform_rv.rvs(size = (n_obs, 1000))\n",
    "x.shape"
   ]
  },
  {
   "cell_type": "code",
   "execution_count": 7,
   "metadata": {},
   "outputs": [],
   "source": [
    "# первая оценка \n",
    "theta_1 = 2*np.mean(x, axis=0)\n",
    "\n",
    "# вторая оценка \n",
    "theta_2 = (n_obs + 2)/n_obs*np.max(x, axis=0)"
   ]
  },
  {
   "cell_type": "code",
   "execution_count": 6,
   "metadata": {},
   "outputs": [
    {
     "data": {
      "image/png": "[encoded data removed]",
      "text/plain": [
       "<Figure size 1200x600 with 1 Axes>"
      ]
     },
     "metadata": {},
     "output_type": "display_data"
    }
   ],
   "source": [
    "plt.figure(figsize=(12,6))\n",
    "plt.hist(theta_1, bins=100, alpha=0.5, label='Moment method')\n",
    "plt.hist(theta_2, bins=50, alpha=0.5, label='ML method')\n",
    "plt.legend();"
   ]
  },
  {
   "cell_type": "markdown",
   "metadata": {},
   "source": [
    "Видим, что у оценки максимального правдоподобия разброс оказался меньше.  "
   ]
  },
  {
   "cell_type": "code",
   "execution_count": 9,
   "metadata": {},
   "outputs": [
    {
     "data": {
      "text/plain": [
       "np.float64(0.08463264870283467)"
      ]
     },
     "execution_count": 9,
     "metadata": {},
     "output_type": "execute_result"
    }
   ],
   "source": [
    "np.var(theta_1)"
   ]
  },
  {
   "cell_type": "code",
   "execution_count": 10,
   "metadata": {},
   "outputs": [
    {
     "data": {
      "text/plain": [
       "np.float64(0.0028298082511125917)"
      ]
     },
     "execution_count": 10,
     "metadata": {},
     "output_type": "execute_result"
    }
   ],
   "source": [
    "np.var(theta_2)"
   ]
  },
  {
   "cell_type": "markdown",
   "metadata": {},
   "source": []
  },
  {
   "cell_type": "markdown",
   "metadata": {},
   "source": [
    "На практике следовало бы выбрать её. Когда у оценки самый маленький разброс в каком-то классе (например, в классе несмещённых оценок), её называют __эффективной__ в этом классе. \n",
    "\n",
    "Кстати говоря, для оценок из этого упражнения, можно руками выяснить, что: \n",
    "\n",
    "$$ E(\\hat \\theta_{MM} - \\theta)^2 = \\frac{\\theta^2}{3n} \\qquad \\qquad E(\\hat \\theta_{ML} - \\theta)^2 = \\frac{2 \\theta^2}{n(n+1)}.$$\n",
    "\n",
    "Получится, что при $n = 1,2$ дисперсии совпадут. При $n >2$ оценка максимального правдоподобия будет обладать меньшей дисперсией. Вывод этих формул руками можно посмотреть в [книге Черновой](https://nsu.ru/mmf/tvims/chernova/ms/ms_nsu07.pdf) на странице 33 (Пример 13)."
   ]
  },
  {
   "cell_type": "markdown",
   "metadata": {},
   "source": [
    "$E(\\hat \\theta - \\theta) ^ 2$\n",
    "\n"
   ]
  },
  {
   "cell_type": "code",
   "execution_count": null,
   "metadata": {},
   "outputs": [],
   "source": [
    "class Solution:\n",
    "    def twoSum(self, nums: List[int], target: int) -> List[int]:\n",
    "        \n",
    "        for i in range(len(nums) - 1):\n",
    "            for j in range(i+1, len(i)):\n",
    "                if nums[i] + nums[j] = target:\n",
    "                    return [i, j]\n",
    "    \n"
   ]
  },
  {
   "cell_type": "code",
   "execution_count": 8,
   "metadata": {},
   "outputs": [],
   "source": [
    "def addTwoNumbers(l1: list, l2: list):\n",
    "    \n",
    "    if len(l2) > len(l1):\n",
    "        l1, l2 = l2, l1 \n",
    "    \n",
    "    new_digit = []\n",
    "\n",
    "    new_digit.append((l1[0] + l2[0]) % 10)\n",
    "    least =  (l1[0] + l2[0]) // 10\n",
    "\n",
    "    for i in range(1, len(l1)):\n",
    "        if i >= len(l2):\n",
    "            digit_sum = l1[i] + least\n",
    "        else:\n",
    "            digit_sum = l1[i] + l2[i] + least\n",
    "        \n",
    "        new_digit.append(digit_sum % 10)\n",
    "        \n",
    "        least = digit_sum // 10\n",
    "    \n",
    "    if least > 0:\n",
    "        new_digit.append(least)\n",
    "    \n",
    "    return new_digit"
   ]
  },
  {
   "cell_type": "code",
   "execution_count": 10,
   "metadata": {},
   "outputs": [
    {
     "data": {
      "text/plain": [
       "[7, 0, 0, 1]"
      ]
     },
     "execution_count": 10,
     "metadata": {},
     "output_type": "execute_result"
    }
   ],
   "source": [
    "addTwoNumbers(l1 = [2,4,9], l2 = [5,6])"
   ]
  },
  {
   "cell_type": "code",
   "execution_count": 11,
   "metadata": {},
   "outputs": [],
   "source": [
    "class ListNode:\n",
    "    def __init__(self, val=0, next=None):\n",
    "        self.val = val        # Value stored in the node\n",
    "        self.next = next      # Reference to the next node in the list"
   ]
  },
  {
   "cell_type": "code",
   "execution_count": null,
   "metadata": {},
   "outputs": [],
   "source": [
    "node3 = ListNode(1)\n",
    "node3 = ListNode(4, node3)\n",
    "node1 = ListNode(2, node2)"
   ]
  },
  {
   "cell_type": "code",
   "execution_count": 40,
   "metadata": {},
   "outputs": [
    {
     "data": {
      "text/plain": [
       "2"
      ]
     },
     "execution_count": 40,
     "metadata": {},
     "output_type": "execute_result"
    }
   ],
   "source": [
    "node2 = ListNode(4)\n",
    "newnode = ListNode(3)\n",
    "node2.next = newnode\n",
    "\n",
    "cur = newnode\n",
    "cur.next = ListNode(2)\n",
    "\n",
    "node2.next.next.val"
   ]
  },
  {
   "cell_type": "code",
   "execution_count": 34,
   "metadata": {},
   "outputs": [],
   "source": [
    "node3.next"
   ]
  },
  {
   "cell_type": "code",
   "execution_count": null,
   "metadata": {},
   "outputs": [],
   "source": [
    "class Solution:\n",
    "    def lengthOfLongestSubstring(self, s: str) -> int:\n",
    "        ht_index = {}\n",
    "        max_lens = 1 if len(s) > 0 else 0\n",
    "\n",
    "        i = 0\n",
    "        while i < len(s):\n",
    "\n",
    "            if s[i] not in ht_uniq:\n",
    "                ht_uniq.add(s[i])\n",
    "                ht_index[s[i]] = i\n",
    "                i += 1\n",
    "            else:\n",
    "                max_lens = max(max_lens, len(ht_uniq))\n",
    "                ht_uniq = set()\n",
    "                ht_index[s[i]], i  = i,  ht_index[s[i]] + 1\n",
    "        \n",
    "        else:\n",
    "            max_lens = max(max_lens, len(ht_uniq))\n",
    "\n",
    "        return max_lens      "
   ]
  },
  {
   "cell_type": "markdown",
   "metadata": {},
   "source": [
    " "
   ]
  }
 ],
 "metadata": {
  "kernelspec": {
   "display_name": "stat_env",
   "language": "python",
   "name": "python3"
  },
  "language_info": {
   "codemirror_mode": {
    "name": "ipython",
    "version": 3
   },
   "file_extension": ".py",
   "mimetype": "text/x-python",
   "name": "python",
   "nbconvert_exporter": "python",
   "pygments_lexer": "ipython3",
   "version": "3.11.5"
  }
 },
 "nbformat": 4,
 "nbformat_minor": 2
}
