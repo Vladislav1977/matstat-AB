{
 "cells": [
  {
   "cell_type": "markdown",
   "metadata": {},
   "source": [
    "<center>\n",
    "<img src=\"logo.png\" height=\"900\"> \n",
    "</center>\n",
    "\n",
    "\n",
    "#  Точные доверительные интервалы \n",
    "\n",
    "Будем работать с данными по стоимости квартир в москве из таблички `flat.csv`.\n"
   ]
  },
  {
   "cell_type": "code",
   "execution_count": 5,
   "metadata": {},
   "outputs": [],
   "source": [
    "import numpy as np\n",
    "import pandas as pd\n",
    "from scipy import stats\n",
    "import seaborn as sns\n",
    "import matplotlib.pyplot as plt\n",
    "\n",
    "plt.style.use('ggplot')\n",
    "%matplotlib inline"
   ]
  },
  {
   "cell_type": "code",
   "execution_count": 6,
   "metadata": {},
   "outputs": [],
   "source": [
    "def norm_conf_int(alpha, mean_hat, std_hat, margin=5):\n",
    "    \n",
    "    \"\"\"\n",
    "        Строит 95% асимптотически-нормальный доверительный интервал\n",
    "    \"\"\"\n",
    "    \n",
    "    plt.figure(figsize=(10,5))\n",
    "    xs = np.linspace(mean_hat - margin, mean_hat + margin)\n",
    "    pdf = stats.norm(mean_hat, std_hat).pdf(xs)\n",
    "\n",
    "    plt.plot(xs, pdf)\n",
    "    plt.ylabel('$f(x)$', fontsize=18)\n",
    "    plt.xlabel('$x$', fontsize=18)\n",
    "\n",
    "    left, right = stats.norm.interval(1 - alpha, loc=mean_hat, scale=std_hat)\n",
    "    \n",
    "    for i in [left, right]: \n",
    "        y_max = plt.ylim()[1]\n",
    "        plt.axvline(i, color=\"blue\", linestyle='dashed', lw=2)\n",
    "        \n",
    "        if i == left:\n",
    "            xq = np.linspace(mean_hat - margin, left)\n",
    "        else:\n",
    "            xq = np.linspace(right, mean_hat + margin)\n",
    "        \n",
    "        text_margin = 0.05\n",
    "        plt.text(i + text_margin, 0.8*y_max, round(i, 2), color=\"blue\", fontsize=14)\n",
    "        yq = stats.norm(mean_hat, std_hat).pdf(xq)\n",
    "        plt.fill_between(xq, 0, yq, color='blue', alpha=0.3)\n",
    "\n",
    "    return left, right"
   ]
  },
  {
   "cell_type": "markdown",
   "metadata": {},
   "source": [
    "__Описание переменных:__\n",
    "\n",
    "```\n",
    "n – номер квартиры по порядку\n",
    "price – цена квартиры в $1000\n",
    "totsp – общая площадь квартиры, кв.м.\n",
    "livesp жилая площадь квартиры, кв.м.\n",
    "kitsp – площадь кухни, кв.м.\n",
    "dist – расстояние от центра в км.\n",
    "metrdist – расстояние до метро в минутах\n",
    "walk – 1 – пешком от метро, 0 – на транспорте\n",
    "brick 1 – кирпичный, монолит ж/б, 0 – другой\n",
    "floor 1 – этаж кроме первого и последнего, 0 – иначе.\n",
    "code – число от 1 до 8, при помощи которого мы группируем наблюдения по\n",
    "подвыборкам:\n",
    "1. Наблюдения сгруппированы на севере, вокруг Калужско-Рижской линии\n",
    "метрополитена\n",
    "2. Север, вокруг Серпуховско-Тимирязевской линии метрополитена\n",
    "3. Северо-запад, вокруг Замоскворецкой линии метрополитена\n",
    "4. Северо-запад, вокруг Таганско-Краснопресненской линии метрополитена\n",
    "5. Юго-восток, вокруг Люблинской линии метрополитена\n",
    "6. Юго-восток, вокруг Таганско-Краснопресненской линии метрополитена\n",
    "7. Восток, вокруг Калиниской линии метрополитена\n",
    "8. Восток, вокруг Арбатско-Покровской линии метрополитена\n",
    "```\n"
   ]
  },
  {
   "cell_type": "code",
   "execution_count": 7,
   "metadata": {},
   "outputs": [
    {
     "name": "stdout",
     "output_type": "stream",
     "text": [
      "(2040, 11)\n"
     ]
    },
    {
     "data": {
      "text/html": [
       "<div>\n",
       "<style scoped>\n",
       "    .dataframe tbody tr th:only-of-type {\n",
       "        vertical-align: middle;\n",
       "    }\n",
       "\n",
       "    .dataframe tbody tr th {\n",
       "        vertical-align: top;\n",
       "    }\n",
       "\n",
       "    .dataframe thead th {\n",
       "        text-align: right;\n",
       "    }\n",
       "</style>\n",
       "<table border=\"1\" class=\"dataframe\">\n",
       "  <thead>\n",
       "    <tr style=\"text-align: right;\">\n",
       "      <th></th>\n",
       "      <th>n</th>\n",
       "      <th>price</th>\n",
       "      <th>totsp</th>\n",
       "      <th>livesp</th>\n",
       "      <th>kitsp</th>\n",
       "      <th>dist</th>\n",
       "      <th>metrdist</th>\n",
       "      <th>walk</th>\n",
       "      <th>brick</th>\n",
       "      <th>floor</th>\n",
       "      <th>code</th>\n",
       "    </tr>\n",
       "  </thead>\n",
       "  <tbody>\n",
       "    <tr>\n",
       "      <th>0</th>\n",
       "      <td>1</td>\n",
       "      <td>81</td>\n",
       "      <td>58</td>\n",
       "      <td>40</td>\n",
       "      <td>6.0</td>\n",
       "      <td>12.5</td>\n",
       "      <td>7</td>\n",
       "      <td>1</td>\n",
       "      <td>1</td>\n",
       "      <td>1</td>\n",
       "      <td>3</td>\n",
       "    </tr>\n",
       "    <tr>\n",
       "      <th>1</th>\n",
       "      <td>2</td>\n",
       "      <td>75</td>\n",
       "      <td>44</td>\n",
       "      <td>28</td>\n",
       "      <td>6.0</td>\n",
       "      <td>13.5</td>\n",
       "      <td>7</td>\n",
       "      <td>1</td>\n",
       "      <td>0</td>\n",
       "      <td>1</td>\n",
       "      <td>6</td>\n",
       "    </tr>\n",
       "    <tr>\n",
       "      <th>2</th>\n",
       "      <td>3</td>\n",
       "      <td>128</td>\n",
       "      <td>70</td>\n",
       "      <td>42</td>\n",
       "      <td>6.0</td>\n",
       "      <td>14.5</td>\n",
       "      <td>3</td>\n",
       "      <td>1</td>\n",
       "      <td>1</td>\n",
       "      <td>1</td>\n",
       "      <td>3</td>\n",
       "    </tr>\n",
       "    <tr>\n",
       "      <th>3</th>\n",
       "      <td>4</td>\n",
       "      <td>95</td>\n",
       "      <td>61</td>\n",
       "      <td>37</td>\n",
       "      <td>6.0</td>\n",
       "      <td>13.5</td>\n",
       "      <td>7</td>\n",
       "      <td>1</td>\n",
       "      <td>0</td>\n",
       "      <td>1</td>\n",
       "      <td>1</td>\n",
       "    </tr>\n",
       "    <tr>\n",
       "      <th>4</th>\n",
       "      <td>5</td>\n",
       "      <td>330</td>\n",
       "      <td>104</td>\n",
       "      <td>60</td>\n",
       "      <td>11.0</td>\n",
       "      <td>10.5</td>\n",
       "      <td>7</td>\n",
       "      <td>0</td>\n",
       "      <td>1</td>\n",
       "      <td>1</td>\n",
       "      <td>3</td>\n",
       "    </tr>\n",
       "  </tbody>\n",
       "</table>\n",
       "</div>"
      ],
      "text/plain": [
       "   n  price  totsp  livesp  kitsp  dist  metrdist  walk  brick  floor  code\n",
       "0  1     81     58      40    6.0  12.5         7     1      1      1     3\n",
       "1  2     75     44      28    6.0  13.5         7     1      0      1     6\n",
       "2  3    128     70      42    6.0  14.5         3     1      1      1     3\n",
       "3  4     95     61      37    6.0  13.5         7     1      0      1     1\n",
       "4  5    330    104      60   11.0  10.5         7     0      1      1     3"
      ]
     },
     "execution_count": 7,
     "metadata": {},
     "output_type": "execute_result"
    }
   ],
   "source": [
    "df = pd.read_csv('./data/flat.csv', sep='\\t')\n",
    "print(df.shape)\n",
    "df.head()"
   ]
  },
  {
   "cell_type": "markdown",
   "metadata": {},
   "source": [
    "# 1. Доверительные интервалы для среднего"
   ]
  },
  {
   "cell_type": "markdown",
   "metadata": {},
   "source": [
    "Построим $95\\%$ асимптотический доверительный интервал для средней стоимости квартиры. Построим точный доверительный интервал для средней стоимости квартиры. Какой из них оказался уже? Почему? \n",
    "\n",
    "__Асимптотический доверительный интервал:__\n",
    "\n",
    "$$\n",
    "\\bar x \\pm z_{1 - \\frac{\\alpha}{2}} \\cdot \\sqrt{\\frac{\\hat\\sigma^2}{n}}.\n",
    "$$\n",
    "\n",
    "> __Предположения:__ \n",
    "В выборке нет аномалий, собиралась независимо, тогда среднее асимптотически нормально распределено (ЦПТ) "
   ]
  },
  {
   "cell_type": "code",
   "execution_count": 22,
   "metadata": {},
   "outputs": [
    {
     "name": "stdout",
     "output_type": "stream",
     "text": [
      "Доверительный интервал [125.245; 129.7] ширины 4.502\n"
     ]
    }
   ],
   "source": [
    "# вручную \n",
    "norm_rv = stats.norm()\n",
    "\n",
    "alpha = 0.05\n",
    "z_crit = norm_rv.ppf(1 - alpha/2)\n",
    "\n",
    "mu_hat = df.price.mean() \n",
    "var_hat = df.price.var(ddof=1)\n",
    "n = df.price.count()\n",
    "\n",
    "left = mu_hat - z_crit*np.sqrt(var_hat/n)\n",
    "right = mu_hat + z_crit*np.sqrt(var_hat/n)\n",
    "\n",
    "print(\"Доверительный интервал [{:.6}; {:.4}] ширины {:.4}\".format(left, right, right - left))"
   ]
  },
  {
   "cell_type": "code",
   "execution_count": 23,
   "metadata": {},
   "outputs": [
    {
     "data": {
      "text/plain": [
       "(np.float64(125.24534794254012), np.float64(129.74778931236185))"
      ]
     },
     "execution_count": 23,
     "metadata": {},
     "output_type": "execute_result"
    }
   ],
   "source": [
    "mu_hat = df.price.mean() \n",
    "sd_hat = df.price.std(ddof=1)/np.sqrt(n)\n",
    "\n",
    "stats.norm.interval(0.95, loc=mu_hat, scale=sd_hat)"
   ]
  },
  {
   "cell_type": "code",
   "execution_count": 24,
   "metadata": {},
   "outputs": [
    {
     "data": {
      "text/plain": [
       "(np.float64(125.24534794254012), np.float64(129.74778931236185))"
      ]
     },
     "execution_count": 24,
     "metadata": {},
     "output_type": "execute_result"
    },
    {
     "data": {
      "image/png": "[encoded data removed]",
      "text/plain": [
       "<Figure size 1000x500 with 1 Axes>"
      ]
     },
     "metadata": {},
     "output_type": "display_data"
    }
   ],
   "source": [
    "alpha = 0.05\n",
    "mu_hat = df.price.mean() \n",
    "sd_hat = df.price.std(ddof=1)/np.sqrt(n)\n",
    "\n",
    "norm_conf_int(alpha, mu_hat, sd_hat, margin=5)"
   ]
  },
  {
   "cell_type": "markdown",
   "metadata": {},
   "source": [
    "__Точный доверительный интервал:__\n",
    "\n",
    "$$\n",
    "\\bar x \\pm t_{1 - \\frac{\\alpha}{2}} \\cdot \\sqrt{\\frac{\\hat\\sigma^2}{n}}.\n",
    "$$\n",
    "\n",
    "> __Предположения:__ \n",
    "Выборка пришла из нормального распределения, дисперсия неизвестна"
   ]
  },
  {
   "cell_type": "code",
   "execution_count": 17,
   "metadata": {},
   "outputs": [
    {
     "name": "stdout",
     "output_type": "stream",
     "text": [
      "Доверительный интервал [125.2; 129.7] ширины 4.505\n"
     ]
    }
   ],
   "source": [
    "# вручную \n",
    "n = df.price.count()\n",
    "t_rv = stats.t(n - 1)\n",
    "\n",
    "alpha = 0.05\n",
    "t_crit = t_rv.ppf(1 - alpha/2)\n",
    "\n",
    "mu_hat = df.price.mean() \n",
    "var_hat = df.price.var(ddof=1)\n",
    "\n",
    "\n",
    "left = mu_hat - t_crit*np.sqrt(var_hat/n)\n",
    "right = mu_hat + t_crit*np.sqrt(var_hat/n)\n",
    "\n",
    "print(\"Доверительный интервал [{:.4}; {:.4}] ширины {:.4}\".format(left, right, right - left))"
   ]
  },
  {
   "cell_type": "code",
   "execution_count": 9,
   "metadata": {},
   "outputs": [],
   "source": [
    "# Оказался немного шире, но похож, так как:\n",
    "# t(n) => N(0,1) при n -> inf "
   ]
  },
  {
   "cell_type": "code",
   "execution_count": 16,
   "metadata": {},
   "outputs": [
    {
     "name": "stdout",
     "output_type": "stream",
     "text": [
      "Доверительный интервал [125.2; 129.7] ширины 4.505\n"
     ]
    }
   ],
   "source": [
    "# пакетом \n",
    "n = df.price.count()\n",
    "mu_hat = df.price.mean()\n",
    "sd_hat = df.price.std(ddof=1) / np.sqrt(n)\n",
    "\n",
    "# тут 0.95 это 1 - alpha\n",
    "left, right = stats.t.interval(0.95, df=(n-1), loc=mu_hat, scale=sd_hat)\n",
    "print(\"Доверительный интервал [{:.4}; {:.4}] ширины {:.4}\".format(left, right, right - left))\n"
   ]
  },
  {
   "cell_type": "markdown",
   "metadata": {},
   "source": [
    "> Видим, что интервалы не сильно отличаются друг от друга, из-за того, что у нас в выборке много наблюдений. При большом числе степеней свободы распределение Стьюдента похоже на нормальное. Тем не менее даже при большом количестве наблюдений точный доверительный интервал оказывается немного шире. "
   ]
  },
  {
   "cell_type": "markdown",
   "metadata": {},
   "source": [
    "__Построим $99\\%$ точные доверительные интервалы для всех районов. В какие из них попало общее среднее? Построим красивую визулизацию.__"
   ]
  },
  {
   "cell_type": "code",
   "execution_count": 11,
   "metadata": {},
   "outputs": [
    {
     "data": {
      "text/html": [
       "<div>\n",
       "<style scoped>\n",
       "    .dataframe tbody tr th:only-of-type {\n",
       "        vertical-align: middle;\n",
       "    }\n",
       "\n",
       "    .dataframe tbody tr th {\n",
       "        vertical-align: top;\n",
       "    }\n",
       "\n",
       "    .dataframe thead th {\n",
       "        text-align: right;\n",
       "    }\n",
       "</style>\n",
       "<table border=\"1\" class=\"dataframe\">\n",
       "  <thead>\n",
       "    <tr style=\"text-align: right;\">\n",
       "      <th></th>\n",
       "      <th>n</th>\n",
       "      <th>price</th>\n",
       "      <th>totsp</th>\n",
       "      <th>livesp</th>\n",
       "      <th>kitsp</th>\n",
       "      <th>dist</th>\n",
       "      <th>metrdist</th>\n",
       "      <th>walk</th>\n",
       "      <th>brick</th>\n",
       "      <th>floor</th>\n",
       "      <th>code</th>\n",
       "    </tr>\n",
       "  </thead>\n",
       "  <tbody>\n",
       "    <tr>\n",
       "      <th>0</th>\n",
       "      <td>1</td>\n",
       "      <td>81</td>\n",
       "      <td>58</td>\n",
       "      <td>40</td>\n",
       "      <td>6.0</td>\n",
       "      <td>12.5</td>\n",
       "      <td>7</td>\n",
       "      <td>1</td>\n",
       "      <td>1</td>\n",
       "      <td>1</td>\n",
       "      <td>3</td>\n",
       "    </tr>\n",
       "    <tr>\n",
       "      <th>1</th>\n",
       "      <td>2</td>\n",
       "      <td>75</td>\n",
       "      <td>44</td>\n",
       "      <td>28</td>\n",
       "      <td>6.0</td>\n",
       "      <td>13.5</td>\n",
       "      <td>7</td>\n",
       "      <td>1</td>\n",
       "      <td>0</td>\n",
       "      <td>1</td>\n",
       "      <td>6</td>\n",
       "    </tr>\n",
       "    <tr>\n",
       "      <th>2</th>\n",
       "      <td>3</td>\n",
       "      <td>128</td>\n",
       "      <td>70</td>\n",
       "      <td>42</td>\n",
       "      <td>6.0</td>\n",
       "      <td>14.5</td>\n",
       "      <td>3</td>\n",
       "      <td>1</td>\n",
       "      <td>1</td>\n",
       "      <td>1</td>\n",
       "      <td>3</td>\n",
       "    </tr>\n",
       "    <tr>\n",
       "      <th>3</th>\n",
       "      <td>4</td>\n",
       "      <td>95</td>\n",
       "      <td>61</td>\n",
       "      <td>37</td>\n",
       "      <td>6.0</td>\n",
       "      <td>13.5</td>\n",
       "      <td>7</td>\n",
       "      <td>1</td>\n",
       "      <td>0</td>\n",
       "      <td>1</td>\n",
       "      <td>1</td>\n",
       "    </tr>\n",
       "    <tr>\n",
       "      <th>4</th>\n",
       "      <td>5</td>\n",
       "      <td>330</td>\n",
       "      <td>104</td>\n",
       "      <td>60</td>\n",
       "      <td>11.0</td>\n",
       "      <td>10.5</td>\n",
       "      <td>7</td>\n",
       "      <td>0</td>\n",
       "      <td>1</td>\n",
       "      <td>1</td>\n",
       "      <td>3</td>\n",
       "    </tr>\n",
       "  </tbody>\n",
       "</table>\n",
       "</div>"
      ],
      "text/plain": [
       "   n  price  totsp  livesp  kitsp  dist  metrdist  walk  brick  floor  code\n",
       "0  1     81     58      40    6.0  12.5         7     1      1      1     3\n",
       "1  2     75     44      28    6.0  13.5         7     1      0      1     6\n",
       "2  3    128     70      42    6.0  14.5         3     1      1      1     3\n",
       "3  4     95     61      37    6.0  13.5         7     1      0      1     1\n",
       "4  5    330    104      60   11.0  10.5         7     0      1      1     3"
      ]
     },
     "execution_count": 11,
     "metadata": {},
     "output_type": "execute_result"
    }
   ],
   "source": [
    "df.head()"
   ]
  },
  {
   "cell_type": "code",
   "execution_count": 25,
   "metadata": {},
   "outputs": [
    {
     "data": {
      "text/html": [
       "<div>\n",
       "<style scoped>\n",
       "    .dataframe tbody tr th:only-of-type {\n",
       "        vertical-align: middle;\n",
       "    }\n",
       "\n",
       "    .dataframe tbody tr th {\n",
       "        vertical-align: top;\n",
       "    }\n",
       "\n",
       "    .dataframe thead th {\n",
       "        text-align: right;\n",
       "    }\n",
       "</style>\n",
       "<table border=\"1\" class=\"dataframe\">\n",
       "  <thead>\n",
       "    <tr style=\"text-align: right;\">\n",
       "      <th></th>\n",
       "      <th>mean</th>\n",
       "      <th>std</th>\n",
       "      <th>count</th>\n",
       "    </tr>\n",
       "    <tr>\n",
       "      <th>code</th>\n",
       "      <th></th>\n",
       "      <th></th>\n",
       "      <th></th>\n",
       "    </tr>\n",
       "  </thead>\n",
       "  <tbody>\n",
       "    <tr>\n",
       "      <th>1</th>\n",
       "      <td>134.411765</td>\n",
       "      <td>49.619507</td>\n",
       "      <td>272</td>\n",
       "    </tr>\n",
       "    <tr>\n",
       "      <th>2</th>\n",
       "      <td>110.316279</td>\n",
       "      <td>29.518448</td>\n",
       "      <td>215</td>\n",
       "    </tr>\n",
       "    <tr>\n",
       "      <th>3</th>\n",
       "      <td>148.246377</td>\n",
       "      <td>70.573565</td>\n",
       "      <td>345</td>\n",
       "    </tr>\n",
       "    <tr>\n",
       "      <th>4</th>\n",
       "      <td>148.693780</td>\n",
       "      <td>73.656832</td>\n",
       "      <td>209</td>\n",
       "    </tr>\n",
       "    <tr>\n",
       "      <th>5</th>\n",
       "      <td>115.779762</td>\n",
       "      <td>31.507483</td>\n",
       "      <td>336</td>\n",
       "    </tr>\n",
       "    <tr>\n",
       "      <th>6</th>\n",
       "      <td>109.964981</td>\n",
       "      <td>32.976595</td>\n",
       "      <td>257</td>\n",
       "    </tr>\n",
       "    <tr>\n",
       "      <th>7</th>\n",
       "      <td>114.230088</td>\n",
       "      <td>33.897495</td>\n",
       "      <td>226</td>\n",
       "    </tr>\n",
       "    <tr>\n",
       "      <th>8</th>\n",
       "      <td>136.744444</td>\n",
       "      <td>48.639263</td>\n",
       "      <td>180</td>\n",
       "    </tr>\n",
       "  </tbody>\n",
       "</table>\n",
       "</div>"
      ],
      "text/plain": [
       "            mean        std  count\n",
       "code                              \n",
       "1     134.411765  49.619507    272\n",
       "2     110.316279  29.518448    215\n",
       "3     148.246377  70.573565    345\n",
       "4     148.693780  73.656832    209\n",
       "5     115.779762  31.507483    336\n",
       "6     109.964981  32.976595    257\n",
       "7     114.230088  33.897495    226\n",
       "8     136.744444  48.639263    180"
      ]
     },
     "execution_count": 25,
     "metadata": {},
     "output_type": "execute_result"
    }
   ],
   "source": [
    "df_agg = df.groupby('code')['price'].agg(['mean', 'std', 'count'])\n",
    "df_agg"
   ]
  },
  {
   "cell_type": "code",
   "execution_count": 26,
   "metadata": {},
   "outputs": [
    {
     "data": {
      "text/html": [
       "<div>\n",
       "<style scoped>\n",
       "    .dataframe tbody tr th:only-of-type {\n",
       "        vertical-align: middle;\n",
       "    }\n",
       "\n",
       "    .dataframe tbody tr th {\n",
       "        vertical-align: top;\n",
       "    }\n",
       "\n",
       "    .dataframe thead th {\n",
       "        text-align: right;\n",
       "    }\n",
       "</style>\n",
       "<table border=\"1\" class=\"dataframe\">\n",
       "  <thead>\n",
       "    <tr style=\"text-align: right;\">\n",
       "      <th></th>\n",
       "      <th>mean</th>\n",
       "      <th>std</th>\n",
       "      <th>count</th>\n",
       "      <th>t_crit</th>\n",
       "      <th>step</th>\n",
       "    </tr>\n",
       "    <tr>\n",
       "      <th>code</th>\n",
       "      <th></th>\n",
       "      <th></th>\n",
       "      <th></th>\n",
       "      <th></th>\n",
       "      <th></th>\n",
       "    </tr>\n",
       "  </thead>\n",
       "  <tbody>\n",
       "    <tr>\n",
       "      <th>1</th>\n",
       "      <td>134.411765</td>\n",
       "      <td>49.619507</td>\n",
       "      <td>272</td>\n",
       "      <td>2.594092</td>\n",
       "      <td>7.804650</td>\n",
       "    </tr>\n",
       "    <tr>\n",
       "      <th>2</th>\n",
       "      <td>110.316279</td>\n",
       "      <td>29.518448</td>\n",
       "      <td>215</td>\n",
       "      <td>2.598998</td>\n",
       "      <td>5.232150</td>\n",
       "    </tr>\n",
       "    <tr>\n",
       "      <th>3</th>\n",
       "      <td>148.246377</td>\n",
       "      <td>70.573565</td>\n",
       "      <td>345</td>\n",
       "      <td>2.590197</td>\n",
       "      <td>9.841589</td>\n",
       "    </tr>\n",
       "    <tr>\n",
       "      <th>4</th>\n",
       "      <td>148.693780</td>\n",
       "      <td>73.656832</td>\n",
       "      <td>209</td>\n",
       "      <td>2.599672</td>\n",
       "      <td>13.245198</td>\n",
       "    </tr>\n",
       "    <tr>\n",
       "      <th>5</th>\n",
       "      <td>115.779762</td>\n",
       "      <td>31.507483</td>\n",
       "      <td>336</td>\n",
       "      <td>2.590585</td>\n",
       "      <td>4.452889</td>\n",
       "    </tr>\n",
       "    <tr>\n",
       "      <th>6</th>\n",
       "      <td>109.964981</td>\n",
       "      <td>32.976595</td>\n",
       "      <td>257</td>\n",
       "      <td>2.595170</td>\n",
       "      <td>5.338326</td>\n",
       "    </tr>\n",
       "    <tr>\n",
       "      <th>7</th>\n",
       "      <td>114.230088</td>\n",
       "      <td>33.897495</td>\n",
       "      <td>226</td>\n",
       "      <td>2.597856</td>\n",
       "      <td>5.857718</td>\n",
       "    </tr>\n",
       "    <tr>\n",
       "      <th>8</th>\n",
       "      <td>136.744444</td>\n",
       "      <td>48.639263</td>\n",
       "      <td>180</td>\n",
       "      <td>2.603574</td>\n",
       "      <td>9.438884</td>\n",
       "    </tr>\n",
       "  </tbody>\n",
       "</table>\n",
       "</div>"
      ],
      "text/plain": [
       "            mean        std  count    t_crit       step\n",
       "code                                                   \n",
       "1     134.411765  49.619507    272  2.594092   7.804650\n",
       "2     110.316279  29.518448    215  2.598998   5.232150\n",
       "3     148.246377  70.573565    345  2.590197   9.841589\n",
       "4     148.693780  73.656832    209  2.599672  13.245198\n",
       "5     115.779762  31.507483    336  2.590585   4.452889\n",
       "6     109.964981  32.976595    257  2.595170   5.338326\n",
       "7     114.230088  33.897495    226  2.597856   5.857718\n",
       "8     136.744444  48.639263    180  2.603574   9.438884"
      ]
     },
     "execution_count": 26,
     "metadata": {},
     "output_type": "execute_result"
    }
   ],
   "source": [
    "alpha = 0.01\n",
    "df_agg['t_crit'] = df_agg['count'].apply(lambda w: stats.t(w - 1).ppf(1 - alpha/2))\n",
    "\n",
    "# на сколько отступать вправо и влево от математического ожидания\n",
    "df_agg['step'] =  df_agg['t_crit']  * df_agg['std']/np.sqrt(df_agg['count'])\n",
    "df_agg"
   ]
  },
  {
   "cell_type": "code",
   "execution_count": null,
   "metadata": {},
   "outputs": [
    {
     "data": {
      "image/png": "[encoded data removed]",
      "text/plain": [
       "<Figure size 1000x500 with 1 Axes>"
      ]
     },
     "metadata": {},
     "output_type": "display_data"
    }
   ],
   "source": [
    "district = [\n",
    "    'Север, Калужско-Рижская', 'Север, Серпуховско-Тимирязевская', \n",
    "    'Северо-запад, Замоскворецкая', 'Северо-запад, Таганско-Краснопресненская', \n",
    "    'Юго-восток, Люблинская', 'Юго-восток, Таганско-Краснопресненская',\n",
    "    'Восток, Калиниская', 'Восток, Арбатско-Покровская'\n",
    "]\n",
    "\n",
    "center = df_agg['mean'].values\n",
    "step = df_agg['step'].values\n",
    "\n",
    "mu_hat = df.price.mean() # общее среднее \n",
    "\n",
    "plt.figure(figsize=(10,5))\n",
    "\n",
    "plt.errorbar(center, np.arange(center.size),  xerr = step, \n",
    "             capsize=2, fmt='o', color=\"blue\")\n",
    "\n",
    "plt.yticks(np.arange(center.size - 1, -1, -1), district, fontsize=12);\n",
    "plt.axvline(mu_hat, 0, color='grey');\n"
   ]
  },
  {
   "cell_type": "markdown",
   "metadata": {},
   "source": [
    "__Выводы:__ \n",
    "\n",
    "- В среднем, самая дорогая недвижимость находится на Юго-востоке. Самая дешёвая на Северо-западе. "
   ]
  },
  {
   "cell_type": "markdown",
   "metadata": {},
   "source": [
    "# 2. Доверительный интервал для разности средних"
   ]
  },
  {
   "cell_type": "markdown",
   "metadata": {},
   "source": [
    "Построим $95\\%$ асимптотический доверительный интервал для разницы в средней стоимости квартир в монолитных и панельных домах.\n",
    "\n",
    "$$\n",
    "\\bar x - \\bar y \\pm z_{crit} \\cdot \\sqrt{\\frac{\\hat\\sigma_x^2}{n_x} + \\frac{\\hat\\sigma_y^2}{n_y}}\n",
    "$$"
   ]
  },
  {
   "cell_type": "code",
   "execution_count": 8,
   "metadata": {},
   "outputs": [
    {
     "name": "stdout",
     "output_type": "stream",
     "text": [
      "Доверительный интервал [23.04; 34.81] ширины 11.77\n"
     ]
    }
   ],
   "source": [
    "x = df[df.brick == 1].price.values\n",
    "y = df[df.brick == 0].price.values\n",
    "\n",
    "diff = x.mean() - y.mean() \n",
    "nx,ny = x.size, y.size\n",
    "diff_sd = np.sqrt(x.var(ddof=1)/nx + y.var(ddof=1)/nx)\n",
    "\n",
    "left, right = stats.norm.interval(0.95, loc=diff, scale=diff_sd)\n",
    "print(\"Доверительный интервал [{:.4}; {:.4}] ширины {:.4}\".format(left, right, right - left))"
   ]
  },
  {
   "cell_type": "markdown",
   "metadata": {},
   "source": [
    "Предположим, что дисперсии неизвестны, но равны.\n",
    "\n",
    "$$\n",
    "\\bar x - \\bar y \\pm t_{crit} \\cdot \\sqrt{\\frac{s^2}{n_x} + \\frac{s^2}{n_y}}\n",
    "$$"
   ]
  },
  {
   "cell_type": "code",
   "execution_count": 6,
   "metadata": {},
   "outputs": [
    {
     "name": "stdout",
     "output_type": "stream",
     "text": [
      "Доверительный интервал [24.28; 33.58] ширины 9.297\n"
     ]
    }
   ],
   "source": [
    "diff = x.mean() - y.mean()\n",
    "nx, ny = x.size, y.size\n",
    "\n",
    "s2 = ((nx - 1)*x.var() + (ny - 1)*y.var())/(nx + ny - 2)\n",
    "diff_sd = np.sqrt(s2/nx + s2/ny)\n",
    "\n",
    "left, right = stats.t.interval(0.95, df=(nx + ny - 2), loc=diff, scale=diff_sd)\n",
    "print(\"Доверительный интервал [{:.4}; {:.4}] ширины {:.4}\".format(left, right, right - left))"
   ]
  },
  {
   "cell_type": "code",
   "execution_count": 39,
   "metadata": {},
   "outputs": [
    {
     "data": {
      "text/plain": [
       "(np.float64(4264.981392232218), np.float64(1668.1298841576563))"
      ]
     },
     "execution_count": 39,
     "metadata": {},
     "output_type": "execute_result"
    }
   ],
   "source": [
    "x.var(), y.var()"
   ]
  },
  {
   "cell_type": "markdown",
   "metadata": {},
   "source": [
    "Предположим, что дисперсии неизвестны и не равны. Построим приближённый доверительный интервал (интервал Уэлча)."
   ]
  },
  {
   "cell_type": "code",
   "execution_count": 42,
   "metadata": {
    "scrolled": true
   },
   "outputs": [
    {
     "name": "stdout",
     "output_type": "stream",
     "text": [
      "Число степеней свободы: 911.4012642833161\n",
      "Доверительный интервал [23.49; 34.37] ширины 10.88\n"
     ]
    }
   ],
   "source": [
    "diff = x.mean() - y.mean()\n",
    "nx, ny = x.size, y.size\n",
    "diff_sd = np.sqrt(x.var()/nx + y.var()/ny)\n",
    "\n",
    "u = (x.var() / nx + y.var() / ny) ** 2\n",
    "d = (x.var()**2) / (nx**2 * (nx - 1)) + (y.var()**2)/ (ny**2* (ny - 1))\n",
    "nu =  u/d \n",
    "print(\"Число степеней свободы:\", nu)\n",
    "\n",
    "left, right = stats.t.interval(0.95, df=nu, loc=diff, scale=diff_sd)\n",
    "print(\"Доверительный интервал [{:.4}; {:.4}] ширины {:.4}\".format(left, right, right - left))\n"
   ]
  },
  {
   "cell_type": "code",
   "execution_count": 43,
   "metadata": {},
   "outputs": [
    {
     "data": {
      "text/plain": [
       "(659, 1381)"
      ]
     },
     "execution_count": 43,
     "metadata": {},
     "output_type": "execute_result"
    }
   ],
   "source": [
    "nx, ny"
   ]
  },
  {
   "cell_type": "code",
   "execution_count": 44,
   "metadata": {
    "scrolled": true
   },
   "outputs": [
    {
     "data": {
      "text/plain": [
       "(np.float64(65.30682500498871), np.float64(40.842745796012004))"
      ]
     },
     "execution_count": 44,
     "metadata": {},
     "output_type": "execute_result"
    }
   ],
   "source": [
    "x.std(), y.std()  # Знаки не в ту сторону => при малых выборках не очень верим"
   ]
  },
  {
   "cell_type": "markdown",
   "metadata": {},
   "source": [
    "> Все три доверительных интервала из-за больших объёмов выборки снова оказались похожи. Выборочные дисперсии довольно сильно отличаются друг от друга, из-за этого использование доверительного интервала с предпосылкой о их равенстве некорректно."
   ]
  },
  {
   "cell_type": "markdown",
   "metadata": {},
   "source": [
    "__Выводы:__ \n",
    "\n",
    "- В среднем, на уровне значимости $5\\%$, квартиры в монолитных домах стоят дороже, чем в панельных. Ноль нигде не попадает в доверительный интервал.  "
   ]
  },
  {
   "cell_type": "markdown",
   "metadata": {},
   "source": [
    "# 3. Доверительный интервал для дисперсии"
   ]
  },
  {
   "cell_type": "markdown",
   "metadata": {},
   "source": [
    "Предполагая нормальность распределения цен, построим $95\\%$ доверительный интервал для дисперсии стоимости квартир. \n",
    "\n",
    "$$\n",
    "\\frac{(n - 1) \\cdot s^2}{\\chi_{n-1}^2 \\left(\\frac{\\alpha}{2} \\right)} \\le \\sigma^2 \\le \\frac{(n - 1) \\cdot s^2}{\\chi_{n-1}^2 \\left(1 - \\frac{\\alpha}{2} \\right)}\n",
    "$$\n",
    "\n",
    "\n",
    "> __Предположения:__ \n",
    "Выборка пришла из нормального распределения, математическое ожидание неизвестно, выполняется теорема Фишера\n"
   ]
  },
  {
   "cell_type": "code",
   "execution_count": 12,
   "metadata": {},
   "outputs": [
    {
     "name": "stdout",
     "output_type": "stream",
     "text": [
      "Доверительный интервал [2533.5; 2864.5] ширины 331.01\n"
     ]
    }
   ],
   "source": [
    "alpha = 0.05 \n",
    "\n",
    "n = df.price.count()\n",
    "var_hat = df.price.var(ddof=1)\n",
    "\n",
    "chi_l, chi_u = stats.chi2.ppf([1-alpha/2, alpha/2], df = n - 1)\n",
    "\n",
    "left = (n - 1) * var_hat/chi_l\n",
    "right = (n - 1) * var_hat/chi_u\n",
    "\n",
    "print(\"Доверительный интервал [{:.5}; {:.5}] ширины {:.5}\".format(left, right, right - left))\n"
   ]
  },
  {
   "cell_type": "markdown",
   "metadata": {},
   "source": [
    "Сделаем то же самое, но в разбивке по районам. "
   ]
  },
  {
   "cell_type": "code",
   "execution_count": 13,
   "metadata": {},
   "outputs": [
    {
     "data": {
      "text/html": [
       "<div>\n",
       "<style scoped>\n",
       "    .dataframe tbody tr th:only-of-type {\n",
       "        vertical-align: middle;\n",
       "    }\n",
       "\n",
       "    .dataframe tbody tr th {\n",
       "        vertical-align: top;\n",
       "    }\n",
       "\n",
       "    .dataframe thead th {\n",
       "        text-align: right;\n",
       "    }\n",
       "</style>\n",
       "<table border=\"1\" class=\"dataframe\">\n",
       "  <thead>\n",
       "    <tr style=\"text-align: right;\">\n",
       "      <th></th>\n",
       "      <th>var</th>\n",
       "      <th>count</th>\n",
       "      <th>ch_l</th>\n",
       "      <th>ch_u</th>\n",
       "      <th>left</th>\n",
       "      <th>right</th>\n",
       "    </tr>\n",
       "    <tr>\n",
       "      <th>code</th>\n",
       "      <th></th>\n",
       "      <th></th>\n",
       "      <th></th>\n",
       "      <th></th>\n",
       "      <th></th>\n",
       "      <th></th>\n",
       "    </tr>\n",
       "  </thead>\n",
       "  <tbody>\n",
       "    <tr>\n",
       "      <th>1</th>\n",
       "      <td>2462.095507</td>\n",
       "      <td>272</td>\n",
       "      <td>318.493509</td>\n",
       "      <td>227.293087</td>\n",
       "      <td>2094.949704</td>\n",
       "      <td>2935.539707</td>\n",
       "    </tr>\n",
       "    <tr>\n",
       "      <th>2</th>\n",
       "      <td>871.338752</td>\n",
       "      <td>215</td>\n",
       "      <td>256.407893</td>\n",
       "      <td>175.378164</td>\n",
       "      <td>727.226026</td>\n",
       "      <td>1063.225252</td>\n",
       "    </tr>\n",
       "    <tr>\n",
       "      <th>3</th>\n",
       "      <td>4980.628075</td>\n",
       "      <td>345</td>\n",
       "      <td>397.276692</td>\n",
       "      <td>294.510332</td>\n",
       "      <td>4312.702181</td>\n",
       "      <td>5817.575378</td>\n",
       "    </tr>\n",
       "    <tr>\n",
       "      <th>4</th>\n",
       "      <td>5425.328855</td>\n",
       "      <td>209</td>\n",
       "      <td>249.834911</td>\n",
       "      <td>169.951073</td>\n",
       "      <td>4516.856343</td>\n",
       "      <td>6639.960458</td>\n",
       "    </tr>\n",
       "    <tr>\n",
       "      <th>5</th>\n",
       "      <td>992.721500</td>\n",
       "      <td>336</td>\n",
       "      <td>387.599359</td>\n",
       "      <td>286.187623</td>\n",
       "      <td>858.003747</td>\n",
       "      <td>1162.040827</td>\n",
       "    </tr>\n",
       "    <tr>\n",
       "      <th>6</th>\n",
       "      <td>1087.455800</td>\n",
       "      <td>257</td>\n",
       "      <td>302.211810</td>\n",
       "      <td>213.574668</td>\n",
       "      <td>921.170767</td>\n",
       "      <td>1303.472401</td>\n",
       "    </tr>\n",
       "    <tr>\n",
       "      <th>7</th>\n",
       "      <td>1149.040157</td>\n",
       "      <td>226</td>\n",
       "      <td>268.437839</td>\n",
       "      <td>185.348344</td>\n",
       "      <td>963.105785</td>\n",
       "      <td>1394.854843</td>\n",
       "    </tr>\n",
       "    <tr>\n",
       "      <th>8</th>\n",
       "      <td>2365.777902</td>\n",
       "      <td>180</td>\n",
       "      <td>217.940765</td>\n",
       "      <td>143.844791</td>\n",
       "      <td>1943.070379</td>\n",
       "      <td>2943.966485</td>\n",
       "    </tr>\n",
       "  </tbody>\n",
       "</table>\n",
       "</div>"
      ],
      "text/plain": [
       "              var  count        ch_l        ch_u         left        right\n",
       "code                                                                      \n",
       "1     2462.095507    272  318.493509  227.293087  2094.949704  2935.539707\n",
       "2      871.338752    215  256.407893  175.378164   727.226026  1063.225252\n",
       "3     4980.628075    345  397.276692  294.510332  4312.702181  5817.575378\n",
       "4     5425.328855    209  249.834911  169.951073  4516.856343  6639.960458\n",
       "5      992.721500    336  387.599359  286.187623   858.003747  1162.040827\n",
       "6     1087.455800    257  302.211810  213.574668   921.170767  1303.472401\n",
       "7     1149.040157    226  268.437839  185.348344   963.105785  1394.854843\n",
       "8     2365.777902    180  217.940765  143.844791  1943.070379  2943.966485"
      ]
     },
     "execution_count": 13,
     "metadata": {},
     "output_type": "execute_result"
    }
   ],
   "source": [
    "df_agg = df.groupby('code')['price'].agg(['var', 'count'])\n",
    "\n",
    "alpha = 0.05\n",
    "df_agg['ch_l'] = df_agg['count'].apply(lambda w: stats.chi2.ppf(1-alpha/2, df = w - 1))\n",
    "df_agg['ch_u'] = df_agg['count'].apply(lambda w: stats.chi2.ppf(alpha/2, df = w - 1))\n",
    "\n",
    "df_agg['left'] =  (df_agg['count'] - 1) * df_agg['var']/df_agg['ch_l']\n",
    "df_agg['right'] =  (df_agg['count'] - 1) * df_agg['var']/df_agg['ch_u']\n",
    "\n",
    "df_agg"
   ]
  },
  {
   "cell_type": "code",
   "execution_count": 23,
   "metadata": {},
   "outputs": [
    {
     "data": {
      "image/png": "[encoded data removed]",
      "text/plain": [
       "<Figure size 720x360 with 1 Axes>"
      ]
     },
     "metadata": {
      "needs_background": "light"
     },
     "output_type": "display_data"
    }
   ],
   "source": [
    "district = [\n",
    "    'Север, Калужско-Рижская', 'Север, Серпуховско-Тимирязевская', \n",
    "    'Северо-запад, Замоскворецкая', 'Северо-запад, Таганско-Краснопресненская', \n",
    "    'Юго-восток, Люблинская', 'Юго-восток, Таганско-Краснопресненская',\n",
    "    'Восток, Калиниская', 'Восток, Арбатско-Покровская'\n",
    "]\n",
    "\n",
    "center = df_agg['var'].values\n",
    "step = np.array([df_agg['var'].values - df_agg['left'].values, \n",
    "                 df_agg['right'].values - df_agg['var'].values])\n",
    "\n",
    "var_hat = df.price.var()\n",
    "\n",
    "plt.figure(figsize=(10,5))\n",
    "\n",
    "plt.errorbar(center, np.arange(center.size),  xerr = step, \n",
    "             capsize=0, fmt=\"o\", color='blue')\n",
    "\n",
    "plt.yticks(np.arange(center.size - 1, -1, -1), district, fontsize=12);\n",
    "plt.axvline(var_hat, 0, color='grey');"
   ]
  },
  {
   "cell_type": "markdown",
   "metadata": {},
   "source": [
    "__Выводы:__ \n",
    "\n",
    "- На Юго-Востоке самый большой разброс в ценах. Как покупатель, я найду здесь более разнообразные предложения. Так происходит из-за того, что с одной стороны районы близки к центру и здесь есть респектабельная недвижимость. С другой стороны, в районах довольно много советской застройки с плохой планировкой и ремонтом. "
   ]
  },
  {
   "cell_type": "markdown",
   "metadata": {},
   "source": [
    "# 4. Доверительный интервал для отношения дисперсий"
   ]
  },
  {
   "cell_type": "markdown",
   "metadata": {},
   "source": [
    "Предполагая нормальность распределения, построим $95\\%$-ый доверительный интервал для отношения дисперсии стоимости квартир в монолитных домах и в панельных домах. \n",
    "\n",
    "\n",
    "$$\n",
    "\\frac{s^2_m}{s^2_n} \\cdot F_{\\frac{\\alpha}{2}}(n,m) \\le \\frac{\\sigma^2_m}{\\sigma^2_n} \\le  \\frac{s^2_m}{s^2_n} \\cdot F_{1 - \\frac{\\alpha}{2}}(n,m)\n",
    "$$"
   ]
  },
  {
   "cell_type": "code",
   "execution_count": 14,
   "metadata": {},
   "outputs": [
    {
     "name": "stdout",
     "output_type": "stream",
     "text": [
      "Доверительный интервал [0.34243; 0.44536] ширины 0.10293\n"
     ]
    }
   ],
   "source": [
    "alpha = 0.05\n",
    "\n",
    "x = df[df.brick == 1].price.values\n",
    "y = df[df.brick == 0].price.values\n",
    "\n",
    "n, m = x.size - 1, y.size - 1\n",
    "sn, sm = x.var(), y.var()\n",
    "\n",
    "left = sm / sn * stats.f(n, m).ppf(alpha/2)\n",
    "right = sm / sn * stats.f(n, m).ppf(1 - alpha/2)\n",
    "\n",
    "print(\"Доверительный интервал [{:.5}; {:.5}] ширины {:.5}\".format(left, right, right - left))"
   ]
  },
  {
   "cell_type": "code",
   "execution_count": 25,
   "metadata": {},
   "outputs": [
    {
     "data": {
      "text/plain": [
       "(65.30682500498871, 40.842745796012004)"
      ]
     },
     "execution_count": 25,
     "metadata": {},
     "output_type": "execute_result"
    }
   ],
   "source": [
    "x.std(), y.std()"
   ]
  },
  {
   "cell_type": "markdown",
   "metadata": {},
   "source": [
    "__Выводы:__ \n",
    "\n",
    "- Единица не попала в доверительный интервал. Дисперсии в ценах на монолитное жильё и на панельное различаются. Цены на монолитное жильё обладают более высокой дисперсией. "
   ]
  },
  {
   "cell_type": "markdown",
   "metadata": {},
   "source": [
    "## А можно ли было пользоваться нормальным распределением? \n",
    "\n",
    "Распределение цен выглядит не очень нормальным. "
   ]
  },
  {
   "cell_type": "code",
   "execution_count": 26,
   "metadata": {
    "scrolled": true
   },
   "outputs": [
    {
     "data": {
      "image/png": "[encoded data removed]",
      "text/plain": [
       "<Figure size 432x288 with 1 Axes>"
      ]
     },
     "metadata": {
      "needs_background": "light"
     },
     "output_type": "display_data"
    }
   ],
   "source": [
    "df.price.hist(bins=50,density=True);"
   ]
  },
  {
   "cell_type": "markdown",
   "metadata": {},
   "source": [
    "Распределение логарифмов цен оказывается более похожим на нормальное."
   ]
  },
  {
   "cell_type": "code",
   "execution_count": 27,
   "metadata": {},
   "outputs": [
    {
     "data": {
      "image/png": "[encoded data removed]",
      "text/plain": [
       "<Figure size 432x288 with 1 Axes>"
      ]
     },
     "metadata": {
      "needs_background": "light"
     },
     "output_type": "display_data"
    }
   ],
   "source": [
    "df.price.apply(np.log).hist(bins=50, density=True);\n",
    "\n",
    "x = df.price.apply(np.log).values\n",
    "\n",
    "xs = np.linspace(3.5, 7, 300)\n",
    "ys = stats.norm(loc=np.mean(x), scale=np.std(x, ddof=1)).pdf(xs)\n",
    "plt.plot(xs, ys, color=\"black\");"
   ]
  },
  {
   "cell_type": "markdown",
   "metadata": {},
   "source": [
    "Можно формально проверить гипотезу о том, имеет ли какая-то выборка нормальное распределение с помошью теста Колмогорова-Смирнова. О нём мы подробнее поговорим в будущем, а сейчас просто воспользуемся. "
   ]
  },
  {
   "cell_type": "code",
   "execution_count": 28,
   "metadata": {},
   "outputs": [
    {
     "data": {
      "text/plain": [
       "KstestResult(statistic=0.1508501598050489, pvalue=5.415515510735646e-41)"
      ]
     },
     "execution_count": 28,
     "metadata": {},
     "output_type": "execute_result"
    }
   ],
   "source": [
    "stats.kstest(df.price, 'norm', args=(df.price.mean(), df.price.std(ddof=1)))"
   ]
  },
  {
   "cell_type": "code",
   "execution_count": 29,
   "metadata": {},
   "outputs": [
    {
     "data": {
      "text/plain": [
       "KstestResult(statistic=0.07697286130504083, pvalue=5.856877429594e-11)"
      ]
     },
     "execution_count": 29,
     "metadata": {},
     "output_type": "execute_result"
    }
   ],
   "source": [
    "stats.kstest(x, 'norm', args=(np.mean(x), np.std(x, ddof=1)))"
   ]
  },
  {
   "cell_type": "markdown",
   "metadata": {},
   "source": [
    "В обоих ситуациях `pvalue` очень низкое, это говорит о том, что выборка не распределена нормально."
   ]
  },
  {
   "cell_type": "markdown",
   "metadata": {},
   "source": [
    "<img src=\"https://raw.githubusercontent.com/FUlyankin/r_probability/master/end_seminars/sem_5/pEbNtDxzx0Q.jpg\" height=\"500\" width=\"500\"> "
   ]
  },
  {
   "cell_type": "markdown",
   "metadata": {},
   "source": [
    " "
   ]
  }
 ],
 "metadata": {
  "kernelspec": {
   "display_name": "stat_env",
   "language": "python",
   "name": "python3"
  },
  "language_info": {
   "codemirror_mode": {
    "name": "ipython",
    "version": 3
   },
   "file_extension": ".py",
   "mimetype": "text/x-python",
   "name": "python",
   "nbconvert_exporter": "python",
   "pygments_lexer": "ipython3",
   "version": "3.11.5"
  }
 },
 "nbformat": 4,
 "nbformat_minor": 2
}
